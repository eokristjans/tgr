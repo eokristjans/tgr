{
 "cells": [
  {
   "cell_type": "markdown",
   "metadata": {},
   "source": [
    "## Style block (delete header)\n",
    "\n",
    "[Einhverjar góðar upplýsingar um page-styling](https://stackoverflow.com/questions/3341485/how-to-make-a-html-page-in-a4-paper-size-pages)\n",
    "\n",
    "<style type=\"text/css\">\n",
    "* {\n",
    "    max-width: 800px;\n",
    "}\n",
    "</style>\n",
    "\n",
    "<hr>"
   ]
  },
  {
   "cell_type": "markdown",
   "metadata": {},
   "source": [
    "# Verkefni II\n",
    "### Motion Control in Computer-Aided Modeling\n",
    "##### Reality Check 5, Numerical Analysis 2nd ed., Sauer.\n",
    "<hr>\n",
    "#### Erling Óskar Kristjánsson, eok4@hi.is\n",
    "#### Davíð Freyr Björnsson, dfb2@hi.is\n",
    "<hr>\n",
    "##### Námskeið: Töluleg Greining (Stæ405G)\n",
    "##### Stofnun: Háskóli Íslands\n",
    "##### Umsjónamaður: Sigurður Freyr Hafstein\n",
    "##### Vor 2019\n",
    "<hr>"
   ]
  },
  {
   "cell_type": "markdown",
   "metadata": {},
   "source": [
    "## Introduction \n",
    "Computer-aided modeling and manufacturing requires precise control of spatial position\n",
    "along a prescribed motion path. We will illustrate the use of Adaptive Quadrature to solve\n",
    "a fundamental piece of the problem: equipartition, or the division of an arbitrary path into\n",
    "equal-length subpaths.\n",
    "\n",
    "In numerical machining problems, it is preferable to maintain constant speed along the\n",
    "path. During each second, progress should be made along an equal length of the machine–\n",
    "material interface. In other motion planning applications, including computer animation,\n",
    "more complicated progress curves may be required:Ahand reaching for a doorknob might \n",
    "begin and end with low velocity and have higher velocity in between. Robotics and virtual\n",
    "reality applications require the construction of parametrized curves and surfaces to be\n",
    "navigated. Building a table of small equal increments in path distance is often a necessary\n",
    "first step.\n",
    "\n",
    "Assume that a parametric path P = $\\{x(t),y(t) | 0 \\leq t \\leq 1\\}$ is given. Figure 5.6 shows\n",
    "the example path\n",
    "\n",
    "$$\n",
    "P =\n",
    "\\begin{cases}\n",
    "x(t) = 0.5 + 0.3t + 3.9t^2 − 4.7t^3, \\\\\n",
    "y(t) = 1.5 + 0.3t + 0.9t^2 − 2.7t^3\n",
    "\\end{cases}\n",
    "$$\n",
    "\n",
    "Bézier curve defined by the four points $(0.5,1.5)$, $(0.6,1.6)$, $(2,2)$, $(0,0)$. \n",
    "Points defined by evenly spaced parameter values $t = 0, 1/4, 1/2, 3/4, 1$ are shown. \n",
    "\n",
    "![(May need to host pictures like this online and supply a https link) Figure 5.6](img/Figure5_6.JPG)\n",
    "\n",
    "Note that even spacing in parameter does not imply even spacing in arc length. \n",
    "Your goal is to apply quadrature methods to divide this path into $n$ equal lengths.\n",
    "\n",
    "Recall from calculus that the arc length of the path from $t_1$ to $t_2$ is\n",
    "\n",
    "$$\n",
    "\\int_{t_1}^{t_2} \\sqrt{x'(t)^2+y'(t)^2}dt\n",
    "$$\n",
    "\n",
    "Only rarely does the integral yield a closed-form expression, and normally an Adaptive\n",
    "Quadrature technique is used to control the parametrization of the path."
   ]
  },
  {
   "cell_type": "markdown",
   "metadata": {},
   "source": [
    "## Suggested Activity 1\n",
    "\n",
    "Write a Python function that uses Adaptive Quadrature to compute the arc length from $t_1 = 0$ to $t_2 = T$ for a given $T \\leq 1$."
   ]
  },
  {
   "cell_type": "code",
   "execution_count": 3,
   "metadata": {},
   "outputs": [],
   "source": [
    "def computeArcLength(T):\n",
    "    if(T>1):\n",
    "        print('Wrong parameter passed. Call function with parameter T<=1')\n",
    "        return -1\n",
    "    t1=0\n",
    "    t2=T\n",
    "    # Höldum áfram hér. Adaptive Quadrature er kafli 5.4 í bókinni."
   ]
  },
  {
   "cell_type": "markdown",
   "metadata": {},
   "source": [
    "## Suggested Activity 2\n",
    "\n",
    "Write a program that, for any input $s$ between $0$ and $1$, finds the parameter $t^∗(s)$\n",
    "that is $s$ of the way along the curve. In other words, the arc length from $t = 0$\n",
    "to $t = t^∗(s)$ divided by the arc length from $t = 0$ to $t = 1$ should be equal to $s$.\n",
    "Use the Bisection Method to locate the point $t^∗(s)$ to three correct decimal places. \n",
    "\n",
    "1. What function is being set to zero?\n",
    "2. What bracketing interval should be used to start the Bisection Method?"
   ]
  },
  {
   "cell_type": "code",
   "execution_count": null,
   "metadata": {},
   "outputs": [],
   "source": []
  }
 ],
 "metadata": {
  "kernelspec": {
   "display_name": "Python 3",
   "language": "python",
   "name": "python3"
  },
  "language_info": {
   "codemirror_mode": {
    "name": "ipython",
    "version": 3
   },
   "file_extension": ".py",
   "mimetype": "text/x-python",
   "name": "python",
   "nbconvert_exporter": "python",
   "pygments_lexer": "ipython3",
   "version": "3.6.5"
  }
 },
 "nbformat": 4,
 "nbformat_minor": 2
}
