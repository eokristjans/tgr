{
 "cells": [
  {
   "cell_type": "markdown",
   "metadata": {},
   "source": [
    "## Style block (delete header)\n",
    "\n",
    "[Einhverjar góðar upplýsingar um page-styling](https://stackoverflow.com/questions/3341485/how-to-make-a-html-page-in-a4-paper-size-pages)\n",
    "\n",
    "<style type=\"text/css\">\n",
    "* {\n",
    "    max-width: 800px;\n",
    "}\n",
    "</style>\n",
    "\n",
    "<hr>"
   ]
  },
  {
   "cell_type": "markdown",
   "metadata": {},
   "source": [
    "# Verkefni II\n",
    "\n",
    "### Motion Control in Computer-Aided Modeling\n",
    "\n",
    "##### Reality Check 5, Numerical Analysis 2nd ed., Sauer.\n",
    "<hr>\n",
    "\n",
    "#### Erling Óskar Kristjánsson, eok4@hi.is\n",
    "\n",
    "#### Davíð Freyr Björnsson, dfb2@hi.is\n",
    "<hr>\n",
    "\n",
    "##### Námskeið: Töluleg Greining (Stæ405G)\n",
    "\n",
    "##### Stofnun: Háskóli Íslands\n",
    "\n",
    "##### Umsjónamaður: Sigurður Freyr Hafstein\n",
    "\n",
    "##### Vor 2019\n",
    "<hr>"
   ]
  },
  {
   "cell_type": "markdown",
   "metadata": {},
   "source": [
    "## Introduction \n",
    "\n",
    "Computer-aided modeling and manufacturing requires precise control of spatial position\n",
    "along a prescribed motion path. We will illustrate the use of Adaptive Quadrature to solve\n",
    "a fundamental piece of the problem: equipartition, or the division of an arbitrary path into\n",
    "equal-length subpaths.\n",
    "\n",
    "In numerical machining problems, it is preferable to maintain constant speed along the\n",
    "path. During each second, progress should be made along an equal length of the machine–\n",
    "material interface. In other motion planning applications, including computer animation,\n",
    "more complicated progress curves may be required: A hand reaching for a doorknob might \n",
    "begin and end with low velocity and have higher velocity in between. Robotics and virtual\n",
    "reality applications require the construction of parametrized curves and surfaces to be\n",
    "navigated. Building a table of small equal increments in path distance is often a necessary\n",
    "first step.\n",
    "\n",
    "Assume that a parametric path P = $\\{x(t),\\ y(t) \\ | \\  0 \\leq t \\leq 1\\}$ is given. Figure 5.6 shows\n",
    "the example path\n",
    "\n",
    "$$\n",
    "P =\n",
    "\\begin{cases}\n",
    "x(t) = 0.5 + 0.3t + 3.9t^2 − 4.7t^3, \\\\\n",
    "y(t) = 1.5 + 0.3t + 0.9t^2 − 2.7t^3\n",
    "\\end{cases}\n",
    "$$\n",
    "\n",
    "Bézier curve defined by the four points $(0.5,1.5)$, $(0.6,1.6)$, $(2,2)$, $(0,0)$. \n",
    "Points defined by evenly spaced parameter values $t = 0, 1/4, 1/2, 3/4, 1$ are shown. \n",
    "\n",
    "![(May need to host pictures like this online and supply a https link) Figure 5.6](img/Figure5_6.JPG)\n",
    "\n",
    "Note that even spacing in parameter does not imply even spacing in arc length. \n",
    "Your goal is to apply quadrature methods to divide this path into $n$ equal lengths.\n",
    "\n",
    "Recall from calculus that the arc length of the path from $t_1$ to $t_2$ is\n",
    "\n",
    "$$\n",
    "\\int_{t_1}^{t_2} \\sqrt{x'(t)^2+y'(t)^2}dt\n",
    "$$\n",
    "\n",
    "Only rarely does the integral yield a closed-form expression, and normally an Adaptive\n",
    "Quadrature technique is used to control the parametrization of the path."
   ]
  },
  {
   "cell_type": "markdown",
   "metadata": {},
   "source": [
    "<hr>\n",
    "\n",
    "## Suggested Activity 1\n",
    "\n",
    "Write a Python function that uses Adaptive Quadrature to compute the arc length from $t_1 = 0$ to $t_2 = T$ for a given $T \\leq 1$.\n",
    "\n",
    "** Ready as far as $x'(t)$ and $y'(t)$ are supplied. The given $P(x(t),y(t))$ was differentiated manually. **"
   ]
  },
  {
   "cell_type": "code",
   "execution_count": 20,
   "metadata": {},
   "outputs": [
    {
     "name": "stdout",
     "output_type": "stream",
     "text": [
      "The arc length is 2.49525\n"
     ]
    }
   ],
   "source": [
    "from functionsV2 import *\n",
    "import numpy as np\n",
    "from time import perf_counter\n",
    "\n",
    "# Temporary global tol\n",
    "tol = 0.5e-6\n",
    "# Temporary global number of decimals\n",
    "dec = 5\n",
    "\n",
    "\"\"\" Suggested Activity 1 \"\"\"\n",
    "# Given parametric path with\n",
    "# x(t) = 0.5 + 0.3*t + 3.9*t**2 - 4.7*t**3 and \n",
    "# y(t) = 1.5 + 0.3*t + 0.9*t**2 - 2.7*t**3\n",
    "# We can manually compute the derivatives\n",
    "dxdt = lambda t: 0.3 + 7.8*t - 14.1*t**2\n",
    "dydt = lambda t: 0.3 + 1.8*t - 8.1*t**2\n",
    "\n",
    "# Compute the lambda function that\n",
    "# is to be integrgated\n",
    "f = sqrtFunSquared(dxdt, dydt)\n",
    "\n",
    "# Compute the corresponding arc length\n",
    "# by computing the integral of f from\n",
    "# 0 to 1 using the method of Adaptive Quadrature\n",
    "arcLength = compArcLength(f, 0.0, 1.0, adQuad, tol)\n",
    "\n",
    "print(\"The arc length is\", round(arcLength, dec))"
   ]
  },
  {
   "cell_type": "markdown",
   "metadata": {},
   "source": [
    "<hr>\n",
    "\n",
    "## Suggested Activity 2\n",
    "\n",
    "Write a program that, for any input $s$ between $0$ and $1$, finds the parameter $t^∗(s)$\n",
    "that is $s$ of the way along the curve. In other words, the arc length from $t = 0$\n",
    "to $t = t^∗(s)$ divided by the arc length from $t = 0$ to $t = 1$ should be equal to $s$.\n",
    "\n",
    "**In other other words: **\n",
    "\n",
    "$$ s = \\frac{\\int_{0}^{t^*(s)} \\sqrt{x'(t)^2+y'(t)^2}dt}{ \\int_{0}^{1} \\sqrt{x'(t)^2+y'(t)^2}dt}$$\n",
    "\n",
    "Use the Bisection Method to locate the point $t^∗(s)$ to three correct decimal places. \n",
    "\n",
    "1. What function is being set to zero?<br>\n",
    "$$ s \\int_{0}^{1} \\sqrt{x'(t)^2+y'(t)^2}dt - \\int_{0}^{t^*(s)} \\sqrt{x'(t)^2+y'(t)^2}dt = 0$$\n",
    "2. What bracketing interval should be used to start the Bisection Method?<br>\n",
    "The bracket interval [0, 1], since for $t^*(s) = 0$ it follows that $s=0$ and when $t^*(s) = 1$ it follows that $s=1$. So this range of $t^*(s)$ covers all the possible values of $s$."
   ]
  },
  {
   "cell_type": "code",
   "execution_count": 21,
   "metadata": {},
   "outputs": [
    {
     "name": "stdout",
     "output_type": "stream",
     "text": [
      "The optimal value of t for s = 0.5 is 0.80059\n",
      "and was computed in 1.75286 seconds\n",
      "Verified: True\n"
     ]
    }
   ],
   "source": [
    "# Let's time the function tStarOfS\n",
    "# for s = 0.5 \n",
    "s = 0.5\n",
    "start = perf_counter()\n",
    "tStar2 = tStarOfSBisect(f, s, adQuad, tol)\n",
    "end = perf_counter()\n",
    "elapsedTime2 = end - start\n",
    "\n",
    "print('The optimal value of t for s =', round(s, dec), 'is', round(tStar2, dec))\n",
    "print('and was computed in', round(elapsedTime2, dec), 'seconds')\n",
    "\n",
    "# Let's verify if tStar really is the\n",
    "# root of the function \n",
    "print('Verified:', (np.abs(compArcLength(f, 0.0, tStar2, adQuad, tol) / \n",
    "                           compArcLength(f, 0.0, 1.0, adQuad, tol) - s) < 0.001))"
   ]
  },
  {
   "cell_type": "markdown",
   "metadata": {},
   "source": [
    "<hr>\n",
    "\n",
    "## Suggested Activity 3\n",
    "\n",
    "Equipartition (_split into parts of equal length_) the path of Figure 5.6 into $n$ subpaths of equal length, for $n = 4$ and $n = 20$. Plot analogues of Figure 5.6, showing the equipartitions. If your computations are too slow, consider speeding up the Adaptive Quadrature with Simpson’s Rule, as suggested in Computer Problem 5.4.2.\n",
    "\n",
    "We use the methodology from the previous example. First we implement an efficient version of the Adaptive Quadrature with Simpson's Rule, shown below.\n",
    "\n",
    "Let us consider the scenario where $n = 4$: \n",
    "- We know that the length of the curve is approximately $2.49524674$, so in this scenario we want each part to be of length $0.623811685$."
   ]
  },
  {
   "cell_type": "code",
   "execution_count": 22,
   "metadata": {},
   "outputs": [
    {
     "name": "stdout",
     "output_type": "stream",
     "text": [
      "For n = 4 the computation of t*(s) took 0.10363 seconds\n",
      "Arc length from 0.0 to 0.54587 is 0.62381\n",
      "Proportional arc length: 0.25\n",
      "Arc length from 0.54587 to 0.80059 is 0.62381\n",
      "Proportional arc length: 0.25\n",
      "Arc length from 0.80059 to 0.91683 is 0.62382\n",
      "Proportional arc length: 0.25\n",
      "Arc length from 0.91683 to 1.0 is 0.6238\n",
      "Proportional arc length: 0.25\n"
     ]
    }
   ],
   "source": [
    "# For n = 4\n",
    "sArray = [0.0, 0.25, 0.5, 0.75, 1.0]\n",
    "\n",
    "start = perf_counter()\n",
    "tStarArray = [tStarOfSBisect(f, s, adQuadSimpson, tol) for s in sArray]\n",
    "end = perf_counter()\n",
    "elapsedTime3n4 = end - start\n",
    "print(\"For n = 4 the computation of t*(s) took\",\n",
    "      round(elapsedTime3n4, dec), \"seconds\")\n",
    "\n",
    "for i in range(len(sArray)-1):\n",
    "    arclength = compArcLength(f, tStarArray[i], tStarArray[i+1], adQuadSimpson, tol)\n",
    "    print('Arc length from', round(tStarArray[i], dec), end=' ')\n",
    "    print('to', round(tStarArray[i+1], dec), end=' ') \n",
    "    print('is', round(arclength, dec))\n",
    "    print('Proportional arc length:', end=' ')\n",
    "    print(round(np.abs(arclength / compArcLength(f, 0.0, 1.0, adQuadSimpson, tol)), dec))"
   ]
  },
  {
   "cell_type": "markdown",
   "metadata": {},
   "source": [
    "Let us then consider the scenario where $n = 20$: \n",
    "- We know that the length of the curve is approximately $2.49524674$, so in this scenario we want each part to be of length $0.124762337$."
   ]
  },
  {
   "cell_type": "code",
   "execution_count": 23,
   "metadata": {},
   "outputs": [
    {
     "name": "stdout",
     "output_type": "stream",
     "text": [
      "For n = 20 the computation of t*(s) program took 0.35944 seconds\n",
      "Arclength from 0.0 to 0.14534 is: 0.12476\n",
      "Proportional Arclength : 0.05\n",
      "Arclength from 0.14534 to 0.24023 is: 0.12476\n",
      "Proportional Arclength : 0.05\n",
      "Arclength from 0.24023 to 0.33078 is: 0.12476\n",
      "Proportional Arclength : 0.05\n",
      "Arclength from 0.33078 to 0.43168 is: 0.12476\n",
      "Proportional Arclength : 0.05\n",
      "Arclength from 0.43168 to 0.54587 is: 0.12476\n",
      "Proportional Arclength : 0.05\n",
      "Arclength from 0.54587 to 0.63095 is: 0.12476\n",
      "Proportional Arclength : 0.05\n",
      "Arclength from 0.63095 to 0.68872 is: 0.12478\n",
      "Proportional Arclength : 0.05\n",
      "Arclength from 0.68872 to 0.7329 is: 0.12475\n",
      "Proportional Arclength : 0.05\n",
      "Arclength from 0.7329 to 0.76929 is: 0.12476\n",
      "Proportional Arclength : 0.05\n",
      "Arclength from 0.76929 to 0.80059 is: 0.12476\n",
      "Proportional Arclength : 0.05\n",
      "Arclength from 0.80059 to 0.82828 is: 0.12477\n",
      "Proportional Arclength : 0.05\n",
      "Arclength from 0.82828 to 0.85324 is: 0.12476\n",
      "Proportional Arclength : 0.05\n",
      "Arclength from 0.85324 to 0.87607 is: 0.12477\n",
      "Proportional Arclength : 0.05\n",
      "Arclength from 0.87607 to 0.89717 is: 0.12476\n",
      "Proportional Arclength : 0.05\n",
      "Arclength from 0.89717 to 0.91683 is: 0.12476\n",
      "Proportional Arclength : 0.05\n",
      "Arclength from 0.91683 to 0.93529 is: 0.12476\n",
      "Proportional Arclength : 0.05\n",
      "Arclength from 0.93529 to 0.95272 is: 0.12476\n",
      "Proportional Arclength : 0.05\n",
      "Arclength from 0.95272 to 0.96924 is: 0.12477\n",
      "Proportional Arclength : 0.05\n",
      "Arclength from 0.96924 to 0.98497 is: 0.12475\n",
      "Proportional Arclength : 0.05\n",
      "Arclength from 0.98497 to 1.0 is: 0.12476\n",
      "Proportional Arclength : 0.05\n"
     ]
    }
   ],
   "source": [
    "# For n = 20\n",
    "sArray = np.arange(0.00, 1.05, 0.05)\n",
    "start = perf_counter()\n",
    "tStarArray = [tStarOfSBisect(f, s, adQuadSimpson, tol) for s in sArray]\n",
    "end = perf_counter()\n",
    "elapsedTime3n20 = end - start\n",
    "print(\"For n = 20 the computation of t*(s) program took\", \n",
    "      round(elapsedTime3n20, dec), \"seconds\")\n",
    " \n",
    "for i in range(len(sArray)-1):\n",
    "    arclength = compArcLength(f, tStarArray[i], tStarArray[i+1], adQuadSimpson, tol)\n",
    "    print('Arclength from', round(tStarArray[i], dec), end='')\n",
    "    print(' to', round(tStarArray[i+1], dec), end=' ') \n",
    "    print('is:', round(arclength, dec))\n",
    "    print('Proportional Arclength :', round(np.abs(arclength / \n",
    "                           compArcLength(f, 0.0, 1.0, adQuadSimpson, tol)), 2))"
   ]
  },
  {
   "cell_type": "markdown",
   "metadata": {},
   "source": [
    "<hr>\n",
    "\n",
    "## Suggested Activity 4\n",
    "\n",
    "Replace the Bisection Method in Step 2 with Newton’s Method, and repeat Steps 2 and 3.\n",
    "\n",
    "1. What is the derivative needed? <br>\n",
    "The derivative with respect to $t$ of the function that is being set to zero, namely $$ d \\bigg( s \\int_{0}^{1} \\sqrt{x'(t)^2+y'(t)^2}dt - \\int_{0}^{t^*(s)} \\sqrt{x'(t)^2+y'(t)^2}dt \\bigg) dt^{-1} $$\n",
    "The derivative can be estimated in the necessary points using Python's `Autograd`. However, a loop of trials revealed that the Three-point centered-difference formula described in Chapter 5.1 gave the same estimates as `Autograd` to at least five decimal places, so that will be used instead.\n",
    "2. What is a good choice for the initial guess? <br>\n",
    "As in Suggested Activity 2, it is clear that the root lies in the interval $[0,1]$. However, more precision is possible when the  path is being equipartitioned into $n$ parts. When diving the path into $n$ paths, we use the initial guess of `tGuess=0` for the first $t^*(s)$, and then we use that $t^*(s)$ as an initial guess for the next $t^*(s)$, and so on.\n",
    "\n",
    "3. Is computation time decreased by this replacement? <br>\n",
    "As evinced in the subsequent code sniplet, the computation time is decreased by replacing the Bisection method with Newton's method.\n",
    "\n",
    "Since the computed value of $t^*(s)$ for $s=0.5$ is approximately\n",
    "0.8, a good initial guess when using Newton's method is 0.8"
   ]
  },
  {
   "cell_type": "code",
   "execution_count": 24,
   "metadata": {},
   "outputs": [
    {
     "name": "stdout",
     "output_type": "stream",
     "text": [
      "The computed value of t*(s) for s = 0.5 using the Newton's method is\n",
      "0.80059377\n",
      "The computed value of t*(s) for s = 0.5 using the Bisection method is\n",
      "0.80059338 \n",
      "\n",
      "Time required to compute t*(s) using the Newton's method is:\n",
      "1.0969371 seconds\n",
      "Time required to compute t*(s) using the Bisection method is:\n",
      "1.7528629 seconds\n"
     ]
    }
   ],
   "source": [
    "xGuess = 0.8\n",
    "start = perf_counter()\n",
    "tStar4 = tStarOfSNewton(f, s, adQuad, xGuess, tol)\n",
    "end = perf_counter()\n",
    "elapsedTime4 = end - start\n",
    "\n",
    "print('The computed value of t*(s) for s =', s, end=' ')\n",
    "print('using the Newton\\'s method is')\n",
    "print(round(tStar4, dec+3))\n",
    "\n",
    "print('The computed value of t*(s) for s =', s, end=' ')\n",
    "print('using the Bisection method is')\n",
    "print(round(tStar2, dec+3), \"\\n\")\n",
    "\n",
    "print('Time required to compute t*(s) using the Newton\\'s method is:')\n",
    "print(round(elapsedTime4, dec+2), \"seconds\")\n",
    "print('Time required to compute t*(s) using the Bisection method is:')\n",
    "print(round(elapsedTime2, dec+2), \"seconds\")"
   ]
  },
  {
   "cell_type": "markdown",
   "metadata": {},
   "source": [
    "So we can see that the computed values for t*(s) are equal \n",
    "up to five decimals but Newton's method converges more quickly,\n",
    "as expected."
   ]
  },
  {
   "cell_type": "code",
   "execution_count": null,
   "metadata": {},
   "outputs": [],
   "source": []
  }
 ],
 "metadata": {
  "kernelspec": {
   "display_name": "Python 3",
   "language": "python",
   "name": "python3"
  },
  "language_info": {
   "codemirror_mode": {
    "name": "ipython",
    "version": 3
   },
   "file_extension": ".py",
   "mimetype": "text/x-python",
   "name": "python",
   "nbconvert_exporter": "python",
   "pygments_lexer": "ipython3",
   "version": "3.6.5"
  }
 },
 "nbformat": 4,
 "nbformat_minor": 2
}
