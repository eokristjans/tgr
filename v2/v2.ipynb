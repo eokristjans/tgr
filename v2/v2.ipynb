{
 "cells": [
  {
   "cell_type": "markdown",
   "metadata": {},
   "source": [
    "## Style block (delete header)\n",
    "\n",
    "[Einhverjar góðar upplýsingar um page-styling](https://stackoverflow.com/questions/3341485/how-to-make-a-html-page-in-a4-paper-size-pages)\n",
    "\n",
    "<style type=\"text/css\">\n",
    "* {\n",
    "    max-width: 800px;\n",
    "}\n",
    "</style>\n",
    "\n",
    "<hr>"
   ]
  },
  {
   "cell_type": "markdown",
   "metadata": {},
   "source": [
    "# Verkefni II\n",
    "\n",
    "### Motion Control in Computer-Aided Modeling\n",
    "\n",
    "##### Reality Check 5, Numerical Analysis 2nd ed., Sauer.\n",
    "<hr>\n",
    "\n",
    "#### Erling Óskar Kristjánsson, eok4@hi.is\n",
    "\n",
    "#### Davíð Freyr Björnsson, dfb2@hi.is\n",
    "<hr>\n",
    "\n",
    "##### Námskeið: Töluleg Greining (Stæ405G)\n",
    "\n",
    "##### Stofnun: Háskóli Íslands\n",
    "\n",
    "##### Umsjónamaður: Sigurður Freyr Hafstein\n",
    "\n",
    "##### Vor 2019\n",
    "<hr>"
   ]
  },
  {
   "cell_type": "markdown",
   "metadata": {},
   "source": [
    "## Introduction \n",
    "\n",
    "Computer-aided modeling and manufacturing requires precise control of spatial position\n",
    "along a prescribed motion path. We will illustrate the use of Adaptive Quadrature to solve\n",
    "a fundamental piece of the problem: equipartition, or the division of an arbitrary path into\n",
    "equal-length subpaths.\n",
    "\n",
    "In numerical machining problems, it is preferable to maintain constant speed along the\n",
    "path. During each second, progress should be made along an equal length of the machine–\n",
    "material interface. In other motion planning applications, including computer animation,\n",
    "more complicated progress curves may be required: A hand reaching for a doorknob might \n",
    "begin and end with low velocity and have higher velocity in between. Robotics and virtual\n",
    "reality applications require the construction of parametrized curves and surfaces to be\n",
    "navigated. Building a table of small equal increments in path distance is often a necessary\n",
    "first step.\n",
    "\n",
    "Assume that a parametric path P = $\\{x(t),\\ y(t) \\ | \\  0 \\leq t \\leq 1\\}$ is given. Figure 5.6 shows\n",
    "the example path\n",
    "\n",
    "$$\n",
    "P =\n",
    "\\begin{cases}\n",
    "x(t) = 0.5 + 0.3t + 3.9t^2 − 4.7t^3, \\\\\n",
    "y(t) = 1.5 + 0.3t + 0.9t^2 − 2.7t^3\n",
    "\\end{cases}\n",
    "$$\n",
    "\n",
    "Bézier curve defined by the four points $(0.5,1.5)$, $(0.6,1.6)$, $(2,2)$, $(0,0)$. \n",
    "Points defined by evenly spaced parameter values $t = 0, 1/4, 1/2, 3/4, 1$ are shown. \n",
    "\n",
    "![(May need to host pictures like this online and supply a https link) Figure 5.6](img/Figure5_6.JPG)\n",
    "\n",
    "Note that even spacing in parameter does not imply even spacing in arc length. \n",
    "Your goal is to apply quadrature methods to divide this path into $n$ equal lengths.\n",
    "\n",
    "Recall from calculus that the arc length of the path from $t_1$ to $t_2$ is\n",
    "\n",
    "$$\n",
    "\\int_{t_1}^{t_2} \\sqrt{x'(t)^2+y'(t)^2}dt\n",
    "$$\n",
    "\n",
    "Only rarely does the integral yield a closed-form expression, and normally an Adaptive\n",
    "Quadrature technique is used to control the parametrization of the path."
   ]
  },
  {
   "cell_type": "markdown",
   "metadata": {},
   "source": [
    "<hr>\n",
    "\n",
    "## Suggested Activity 1\n",
    "\n",
    "Write a Python function that uses Adaptive Quadrature to compute the arc length from $t_1 = 0$ to $t_2 = T$ for a given $T \\leq 1$.\n",
    "\n",
    "** Ready as far as $x'(t)$ and $y'(t)$ are supplied. The given $P(x(t),y(t))$ was differentiated manually. **"
   ]
  },
  {
   "cell_type": "code",
   "execution_count": 9,
   "metadata": {},
   "outputs": [
    {
     "name": "stdout",
     "output_type": "stream",
     "text": [
      "The arc length is: 2.49524674832873\n"
     ]
    }
   ],
   "source": [
    "import numpy as np\n",
    "\n",
    "# tol gives correct to 8 decimal places\n",
    "def ComputeArcLength(f, T, t1=0, tol = 0.5e-8):\n",
    "    return AdaptiveIntegration(f, t1, T, tol)\n",
    "\n",
    "# Just a function that calls another function\n",
    "def AdaptiveIntegration(f, a, b, tol):\n",
    "    return AdaptiveQuadratureS(f, f(a), f(b), a, b, tol)\n",
    "\n",
    "# Computes the AdaptiveQuadrature\n",
    "def AdaptiveQuadratureS(f, fa, fb, a, b, tol):\n",
    "    c = (a+b)/2\n",
    "    h = b-a\n",
    "    fc = f(c)\n",
    "    S_ab = (h/2)*(fa+fb)\n",
    "    S_ac = (h/4)*(fa+fc)\n",
    "    S_cb = (h/4)*(fc+fb)\n",
    "    if np.abs(S_ab - S_cb - S_ac) < 3*tol and h < 1e-2:\n",
    "        return (S_ac + S_cb)\n",
    "    else:\n",
    "        return ( AdaptiveQuadratureS(f, fa, fc, a, c, tol/2) +\n",
    "                AdaptiveQuadratureS(f, fc, fb, c, b, tol/2) )\n",
    "            \n",
    "\n",
    "def SqrtOfFunctionsSquared(x,y):\n",
    "    return lambda t: np.sqrt(x(t)**2 + y(t)**2)\n",
    "    \n",
    "\n",
    "# Possible useful\n",
    "def ThreePointCenteredDifferenceFormula(f, a=0, h=1e-10):\n",
    "    return (f(a+h) - f(a-h))/(2*h)\n",
    "\n",
    "# example functions and usage of computeArcLength\n",
    "dxdt = lambda t: 0.3 + 7.8*t - 14.1*t**2\n",
    "dydt = lambda t: 0.3 + 1.8*t - 8.1*t**2\n",
    "fsa1 = SqrtOfFunctionsSquared(dxdt, dydt)\n",
    "\n",
    "SA1 = ComputeArcLength(fsa1, 1)\n",
    "print('The arc length is: ' + str(SA1))"
   ]
  },
  {
   "cell_type": "markdown",
   "metadata": {},
   "source": [
    "<hr>\n",
    "\n",
    "## Suggested Activity 2\n",
    "\n",
    "Write a program that, for any input $s$ between $0$ and $1$, finds the parameter $t^∗(s)$\n",
    "that is $s$ of the way along the curve. In other words, the arc length from $t = 0$\n",
    "to $t = t^∗(s)$ divided by the arc length from $t = 0$ to $t = 1$ should be equal to $s$.\n",
    "\n",
    "**In other other words: **\n",
    "\n",
    "$$ s = \\frac{\\int_{0}^{t^*(s)} \\sqrt{x'(t)^2+y'(t)^2}dt}{ \\int_{0}^{1} \\sqrt{x'(t)^2+y'(t)^2}dt}$$\n",
    "\n",
    "Use the Bisection Method to locate the point $t^∗(s)$ to three correct decimal places. \n",
    "\n",
    "1. What function is being set to zero?\n",
    "$$ s \\int_{0}^{1} \\sqrt{x'(t)^2+y'(t)^2}dt - \\int_{0}^{t^*(s)} \\sqrt{x'(t)^2+y'(t)^2}dt = 0$$\n",
    "\n",
    "3. What bracketing interval should be used to start the Bisection Method?\n",
    "\n",
    "Good question. I'm just using [0, 1], since for $t^*(s) = 0$ it follows that $s=0$ and when $t^*(s) = 1$ it follows that $s=1$. So this range of $t^*(s)$ covers all the possible values of s."
   ]
  },
  {
   "cell_type": "code",
   "execution_count": 10,
   "metadata": {},
   "outputs": [
    {
     "name": "stdout",
     "output_type": "stream",
     "text": [
      "The optimal value of t for 0.5 is 0.80059814453125\n",
      "Verified: True\n"
     ]
    }
   ],
   "source": [
    "# Notkun:   BisectionMethod(f,a,b)\n",
    "# Fyrir:    f is a continuous fucntion on the interval [a,b]\n",
    "#           a < b are numbers such that f(a)*f(b) < 0\n",
    "#           tol is a number\n",
    "# Eftir:    c is the root of f, i.e f(c) = 0\n",
    "def BisectionMethod(f,a,b,tol=0.5e-4):\n",
    "    fa=f(a)\n",
    "    fb=f(b)\n",
    "    while (b-a)/2 > tol:\n",
    "        c=(a+b)/2\n",
    "        fc=f(c)\n",
    "        if fa*fc <= 0:\n",
    "            b=c\n",
    "            fb=fc\n",
    "        else:\n",
    "            a=c\n",
    "            fa=fc\n",
    "    return c\n",
    "\n",
    "def tStarOfS(f, s):\n",
    "    arcLen0to1 = ComputeArcLength(f, 1)\n",
    "    g = lambda b: (s * arcLen0to1 - ComputeArcLength(f, b))\n",
    "    return BisectionMethod(g, 0, 1)\n",
    "\n",
    "\n",
    "s = 0.5\n",
    "ts = tStarOfS(fsa1, s)\n",
    "print('The optimal value of t for ' + str(s) + ' is ' + str(ts))\n",
    "\n",
    "# We can verify that with:\n",
    "print('Verified:', (np.abs(ComputeArcLength(fsa1, ts) / ComputeArcLength(fsa1, 1) - s) < 0.001) )\n",
    "\n",
    "# Lower tolerances to reduce computation time\n",
    "\n",
    "\n"
   ]
  },
  {
   "cell_type": "markdown",
   "metadata": {},
   "source": [
    "<hr>\n",
    "\n",
    "## Suggested Activity 3\n",
    "\n",
    "Equipartition (_split into parts of equal length_) the path of Figure 5.6 into $n$ subpaths of equal length, for $n = 4$ and $n = 20$. Plot analogues of Figure 5.6, showing the equipartitions. If your computations are too slow, consider speeding up the Adaptive Quadrature with Simpson’s Rule, as suggested in Computer Problem 5.4.2.\n",
    "\n",
    "We use the methodology from the previous example. First we implement an efficient version of the Adaptive Quadrature with Simpson's Rule, shows below.\n",
    "\n",
    "Let us consider the scenario where $n = 4$: \n",
    "- We know that the length of the curve is approximately $2.49524674$, so in this scenario we want each part to be of length $0.623811685$.\n",
    "\n"
   ]
  },
  {
   "cell_type": "markdown",
   "metadata": {},
   "source": [
    "<hr>\n",
    "\n",
    "## Suggested Activity 4\n",
    "\n",
    "Replace the Bisection Method in Step 2 with Newton’s Method, and repeat Steps 2 and 3.\n",
    "\n",
    "1. What is the derivative needed?\n",
    "2. What is a good choice for the initial guess?\n",
    "3. Is computation time decreased by this replacement?"
   ]
  }
 ],
 "metadata": {
  "kernelspec": {
   "display_name": "Python 3",
   "language": "python",
   "name": "python3"
  },
  "language_info": {
   "codemirror_mode": {
    "name": "ipython",
    "version": 3
   },
   "file_extension": ".py",
   "mimetype": "text/x-python",
   "name": "python",
   "nbconvert_exporter": "python",
   "pygments_lexer": "ipython3",
   "version": "3.7.2"
  }
 },
 "nbformat": 4,
 "nbformat_minor": 2
}
