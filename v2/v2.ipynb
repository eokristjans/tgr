{
 "cells": [
  {
   "cell_type": "markdown",
   "metadata": {},
   "source": [
    "## Style block (delete header)\n",
    "\n",
    "[Einhverjar góðar upplýsingar um page-styling](https://stackoverflow.com/questions/3341485/how-to-make-a-html-page-in-a4-paper-size-pages)\n",
    "\n",
    "<style type=\"text/css\">\n",
    "* {\n",
    "    max-width: 800px;\n",
    "}\n",
    "</style>\n",
    "\n",
    "<hr>"
   ]
  },
  {
   "cell_type": "markdown",
   "metadata": {},
   "source": [
    "# Verkefni II\n",
    "\n",
    "### Motion Control in Computer-Aided Modeling\n",
    "\n",
    "##### Reality Check 5, Numerical Analysis 2nd ed., Sauer.\n",
    "<hr>\n",
    "\n",
    "#### Erling Óskar Kristjánsson, eok4@hi.is\n",
    "\n",
    "#### Davíð Freyr Björnsson, dfb2@hi.is\n",
    "<hr>\n",
    "\n",
    "##### Námskeið: Töluleg Greining (Stæ405G)\n",
    "\n",
    "##### Stofnun: Háskóli Íslands\n",
    "\n",
    "##### Umsjónamaður: Sigurður Freyr Hafstein\n",
    "\n",
    "##### Vor 2019\n",
    "<hr>"
   ]
  },
  {
   "cell_type": "markdown",
   "metadata": {},
   "source": [
    "## Introduction \n",
    "\n",
    "Computer-aided modeling and manufacturing requires precise control of spatial position\n",
    "along a prescribed motion path. We will illustrate the use of Adaptive Quadrature to solve\n",
    "a fundamental piece of the problem: equipartition, or the division of an arbitrary path into\n",
    "equal-length subpaths.\n",
    "\n",
    "In numerical machining problems, it is preferable to maintain constant speed along the\n",
    "path. During each second, progress should be made along an equal length of the machine–\n",
    "material interface. In other motion planning applications, including computer animation,\n",
    "more complicated progress curves may be required: A hand reaching for a doorknob might \n",
    "begin and end with low velocity and have higher velocity in between. Robotics and virtual\n",
    "reality applications require the construction of parametrized curves and surfaces to be\n",
    "navigated. Building a table of small equal increments in path distance is often a necessary\n",
    "first step.\n",
    "\n",
    "Assume that a parametric path P = $\\{x(t),\\ y(t) \\ | \\  0 \\leq t \\leq 1\\}$ is given. Figure 5.6 shows\n",
    "the example path\n",
    "\n",
    "$$\n",
    "P =\n",
    "\\begin{cases}\n",
    "x(t) = 0.5 + 0.3t + 3.9t^2 − 4.7t^3, \\\\\n",
    "y(t) = 1.5 + 0.3t + 0.9t^2 − 2.7t^3\n",
    "\\end{cases}\n",
    "$$\n",
    "\n",
    "Bézier curve defined by the four points $(0.5,1.5)$, $(0.6,1.6)$, $(2,2)$, $(0,0)$. \n",
    "Points defined by evenly spaced parameter values $t = 0, 1/4, 1/2, 3/4, 1$ are shown. \n",
    "\n",
    "![(May need to host pictures like this online and supply a https link) Figure 5.6](img/Figure5_6.JPG)\n",
    "\n",
    "Note that even spacing in parameter does not imply even spacing in arc length. \n",
    "Your goal is to apply quadrature methods to divide this path into $n$ equal lengths.\n",
    "\n",
    "Recall from calculus that the arc length of the path from $t_1$ to $t_2$ is\n",
    "\n",
    "$$\n",
    "\\int_{t_1}^{t_2} \\sqrt{x'(t)^2+y'(t)^2}dt\n",
    "$$\n",
    "\n",
    "Only rarely does the integral yield a closed-form expression, and normally an Adaptive\n",
    "Quadrature technique is used to control the parametrization of the path."
   ]
  },
  {
   "cell_type": "markdown",
   "metadata": {},
   "source": [
    "<hr>\n",
    "\n",
    "## Unsuggested Activities\n",
    "\n",
    "Commence by defining global imports, the given parametric functions and its curve, as well as \n",
    "a global tolerance and the number of decimal places that will be specified throughout the project."
   ]
  },
  {
   "cell_type": "code",
   "execution_count": 7,
   "metadata": {},
   "outputs": [],
   "source": [
    "\"\"\" Global Imports \"\"\"\n",
    "from functionsV2 import *\n",
    "import numpy as np\n",
    "import matplotlib.pyplot as plt\n",
    "from time import perf_counter\n",
    "from random import uniform"
   ]
  },
  {
   "cell_type": "code",
   "execution_count": 8,
   "metadata": {},
   "outputs": [],
   "source": [
    "tol = 0.5e-5 # Temporary global tol\n",
    "dec = 5 # Temporary global number of decimals\n",
    "\n",
    "# The given parametric equation\n",
    "x = lambda t: 0.5 + 0.3*t + 3.9*t**2 - 4.7*t**3\n",
    "y = lambda t: 1.5 + 0.3*t + 0.9*t**2 - 2.7*t**3"
   ]
  },
  {
   "cell_type": "code",
   "execution_count": 9,
   "metadata": {},
   "outputs": [
    {
     "data": {
      "image/png": "[encoded data removed]",
      "text/plain": [
       "<Figure size 432x288 with 1 Axes>"
      ]
     },
     "metadata": {
      "needs_background": "light"
     },
     "output_type": "display_data"
    }
   ],
   "source": [
    "\"\"\" Plot of the given parametric path \"\"\"\n",
    "plotParameterizedCurves(x,y,[0,1],1,\"Original Parametrized Curve\")"
   ]
  },
  {
   "cell_type": "markdown",
   "metadata": {},
   "source": [
    "<hr>\n",
    "\n",
    "## Suggested Activity 1\n",
    "\n",
    "Write a Python function that uses Adaptive Quadrature to compute the arc length from $t_1 = 0$ to $t_2 = T$ for a given $T \\leq 1$.\n",
    "\n",
    "- The given parametric equation $P(x(t),y(t))$ was differentiated manually."
   ]
  },
  {
   "cell_type": "code",
   "execution_count": 10,
   "metadata": {},
   "outputs": [
    {
     "name": "stdout",
     "output_type": "stream",
     "text": [
      "The arc length is 2.49525\n"
     ]
    }
   ],
   "source": [
    "\"\"\" Suggested Activity 1 \"\"\"\n",
    "# Manually computed derivatives of the given parametric path\n",
    "dxdt = lambda t: 0.3 + 7.8*t - 14.1*t**2\n",
    "dydt = lambda t: 0.3 + 1.8*t - 8.1*t**2\n",
    "\n",
    "# Compute the lambda function that is to be integrated\n",
    "f = sqrtFunSquared(dxdt, dydt)\n",
    "\n",
    "# Compute the corresponding arc length\n",
    "# by computing the integral of f from\n",
    "# 0 to 1 using the method of Adaptive Quadrature\n",
    "arcLength = compArcLength(f, 0.0, 1.0, adQuad, tol)\n",
    "\n",
    "print(\"The arc length is\", round(arcLength, dec))"
   ]
  },
  {
   "cell_type": "markdown",
   "metadata": {},
   "source": [
    "<hr>\n",
    "\n",
    "## Suggested Activity 2\n",
    "\n",
    "Write a program that, for any input $s$ between $0$ and $1$, finds the parameter $t^∗(s)$\n",
    "that is $s$ of the way along the curve. In other words, the arc length from $t = 0$\n",
    "to $t = t^∗(s)$ divided by the arc length from $t = 0$ to $t = 1$ should be equal to $s$.\n",
    "\n",
    "**In other other words: **\n",
    "\n",
    "$$ s = \\frac{\\int_{0}^{t^*(s)} \\sqrt{x'(t)^2+y'(t)^2}dt}{ \\int_{0}^{1} \\sqrt{x'(t)^2+y'(t)^2}dt}$$\n",
    "\n",
    "Use the Bisection Method to locate the point $t^∗(s)$ to three correct decimal places. \n",
    "\n",
    "1. What function is being set to zero?<br>\n",
    "$$ s \\int_{0}^{1} \\sqrt{x'(t)^2+y'(t)^2}dt - \\int_{0}^{t^*(s)} \\sqrt{x'(t)^2+y'(t)^2}dt = 0$$\n",
    "2. What bracketing interval should be used to start the Bisection Method?<br>\n",
    "*The bracket interval [0, 1], since for $t^*(s) = 0$ it follows that $s=0$ and when $t^*(s) = 1$ it follows that $s=1$. So this range of $t^*(s)$ covers all the possible values of $s$.*"
   ]
  },
  {
   "cell_type": "code",
   "execution_count": 11,
   "metadata": {},
   "outputs": [
    {
     "name": "stdout",
     "output_type": "stream",
     "text": [
      "The optimal value of t for s = 0.5 is 0.80059\n",
      "and was computed in 0.16713 seconds\n",
      "Which is the root within our tolerance: True\n"
     ]
    }
   ],
   "source": [
    "\"\"\" Suggested Activity 2 \"\"\"\n",
    "# Let's time the function tStarOfS for s = 0.5 \n",
    "s = 0.5\n",
    "start = perf_counter()\n",
    "tStar2 = tStarOfSBisect(f, s, adQuad, tol)\n",
    "end = perf_counter()\n",
    "elapsedTime2 = end - start\n",
    "\n",
    "print('The optimal value of t for s =', round(s, dec), 'is', round(tStar2, dec))\n",
    "print('and was computed in', round(elapsedTime2, dec), 'seconds')\n",
    "\n",
    "# Let's verify if tStar really is the root of the function \n",
    "print('Which is the root within our tolerance:', \n",
    "      (np.abs(compArcLength(f, 0.0, tStar2, adQuad, tol) / \n",
    "                           arcLength - s) < 2*tol))"
   ]
  },
  {
   "cell_type": "markdown",
   "metadata": {},
   "source": [
    "<hr>\n",
    "\n",
    "## Suggested Activity 3\n",
    "\n",
    "Equipartition (_split into parts of equal length_) the path of Figure 5.6 into $n$ subpaths of equal length, for $n = 4$ and $n = 20$. Plot analogues of Figure 5.6, showing the equipartitions. If your computations are too slow, consider speeding up the Adaptive Quadrature with Simpson’s Rule, as suggested in Computer Problem 5.4.2.\n",
    "\n",
    "- We use the methodology from the previous example. First we implement an efficient version of the Adaptive Quadrature with Simpson's Rule, shown below. This change speeds up the computations considerably.\n",
    "\n",
    "Let us consider the scenario where $n = 4$: \n",
    "- We know that the length of the curve is approximately $2.49525$, so in this scenario we want each part to be of length $0.62381$."
   ]
  },
  {
   "cell_type": "code",
   "execution_count": 13,
   "metadata": {},
   "outputs": [
    {
     "name": "stdout",
     "output_type": "stream",
     "text": [
      "For n = 4 the computation of t*(s) took 0.01889 seconds using Simpson's Rule and the Bisection method\n"
     ]
    }
   ],
   "source": [
    "\"\"\" Suggested Activity 3 \"\"\"\n",
    "# For n = 4\n",
    "sArray_n4 = [0.0, 0.25, 0.5, 0.75, 1.0]\n",
    "n = 4\n",
    "tStarArray = np.zeros(n+1)\n",
    "start = perf_counter()\n",
    "for i in range(n):\n",
    "    tStarArray[i+1] = tStarOfSBisect(f, sArray_n4[i+1], adQuadSimpson, tol)\n",
    "end = perf_counter()\n",
    "elapsedTime3n4 = end - start\n",
    "print(\"For n = 4 the computation of t*(s) took\",\n",
    "      round(elapsedTime3n4, dec), \"seconds using Simpson's Rule and the Bisection method\")\n",
    "\n",
    "for i in range(n): # let's verify that each arclength is about a quarter of the length of the path\n",
    "    partialArclength = compArcLength(f, tStarArray[i], tStarArray[i+1], adQuadSimpson, tol)\n",
    "    if abs(partialArclength / arcLength - 1/n) > 10*tol:\n",
    "        print('Arc length from', round(tStarArray[i], dec), end=' ')\n",
    "        print('to', round(tStarArray[i+1], dec), end=' ') \n",
    "        print('is', round(partialArclength, dec))\n",
    "        print('Proportional arc length:',\n",
    "              round(np.abs(partialArclength / arcLength), dec))"
   ]
  },
  {
   "cell_type": "code",
   "execution_count": 14,
   "metadata": {},
   "outputs": [
    {
     "data": {
      "image/png": "[encoded data removed]",
      "text/plain": [
       "<Figure size 432x288 with 1 Axes>"
      ]
     },
     "metadata": {
      "needs_background": "light"
     },
     "output_type": "display_data"
    }
   ],
   "source": [
    "# Plot the equipartitioned subpaths on one graph but in different colors\n",
    "plotParameterizedCurves(x,y,tStarArray,n,\"Parametrized Curve Equipartitioned into 4 subpaths\")"
   ]
  },
  {
   "cell_type": "markdown",
   "metadata": {},
   "source": [
    "Let us then consider the scenario where $n = 20$: \n",
    "- We know that the length of the curve is approximately $2.49525$, so in this scenario we want each part to be of length $0.12476$."
   ]
  },
  {
   "cell_type": "code",
   "execution_count": 15,
   "metadata": {},
   "outputs": [
    {
     "name": "stdout",
     "output_type": "stream",
     "text": [
      "For n = 20 the computation of t*(s) program took 0.08285 seconds using Simpson's Rule and the Bisection method\n"
     ]
    }
   ],
   "source": [
    "# For n = 20\n",
    "sArray_n20 = np.arange(0.00, 1.05, 0.05)\n",
    "n = 20\n",
    "tStarArray = np.zeros(n+1)\n",
    "start = perf_counter()\n",
    "for i in range(n):\n",
    "    tStarArray[i+1] = tStarOfSBisect(f, sArray_n20[i+1], adQuadSimpson, tol)\n",
    "end = perf_counter()\n",
    "elapsedTime3n20 = end - start\n",
    "print(\"For n = 20 the computation of t*(s) program took\", \n",
    "      round(elapsedTime3n20, dec), \"seconds using Simpson's Rule and the Bisection method\")\n",
    "\n",
    "for i in range(n): # let's verify that each arclength is about one-twentieth of the length of the path\n",
    "    partialArclength = compArcLength(f, tStarArray[i], tStarArray[i+1], adQuadSimpson, tol)\n",
    "    if abs(partialArclength / arcLength - 1/n) > 10*tol:\n",
    "        print('Arc length from', round(tStarArray[i], dec), end=' ')\n",
    "        print('to', round(tStarArray[i+1], dec), end=' ') \n",
    "        print('is', round(partialArclength, dec))\n",
    "        print('Proportional arc length:',\n",
    "              round(np.abs(partialArclength / arcLength), dec))"
   ]
  },
  {
   "cell_type": "code",
   "execution_count": 16,
   "metadata": {},
   "outputs": [
    {
     "data": {
      "image/png": "[encoded data removed]",
      "text/plain": [
       "<Figure size 432x288 with 1 Axes>"
      ]
     },
     "metadata": {
      "needs_background": "light"
     },
     "output_type": "display_data"
    }
   ],
   "source": [
    "# Plot the equipartitioned subpaths on one graph but in different colors\n",
    "plotParameterizedCurves(x,y,tStarArray,n,\"Parametrized Curve Equipartitioned into 20 subpaths\")"
   ]
  },
  {
   "cell_type": "markdown",
   "metadata": {},
   "source": [
    "<hr>\n",
    "\n",
    "## Suggested Activity 4\n",
    "\n",
    "Replace the Bisection Method in Step 2 with Newton’s Method, and repeat Steps 2 and 3.\n",
    "\n",
    "1. What is the derivative needed? <br>\n",
    "\n",
    "The derivative with respect to $t$ of the function that is being set to zero, namely $$ d \\bigg( s \\int_{0}^{1} \\sqrt{x'(t)^2+y'(t)^2}dt - \\int_{0}^{t^*(s)} \\sqrt{x'(t)^2+y'(t)^2}dt \\bigg) dt^{-1} $$\n",
    "The derivative can be estimated in the necessary points using Python's `Autograd`. However, a loop of trials revealed that the Three-point centered-difference formula described in Chapter 5.1 gave the same estimates as `Autograd` to at least five decimal places, so that will be used instead.\n",
    "2. What is a good choice for the initial guess? <br>\n",
    "\n",
    "As in Suggested Activity 2, it is clear that the root lies in the interval $[0,1]$. When repeating Suggest Activity 2, it makes sense to use the value of $t^*(s)$ that was computed earlier as an initial guess. That makes Newton's method converge much faster than the Bisection method, as shown below. However, this is an unfair comparison. More precision is however possible when the  path is being equipartitioned into $n$ parts. When diving the path into $n$ paths of equal length, one can use the initial guess of $0$ for the first $t^*(s)$, and then one can use that $t^*(s)$ as an initial guess for the next $t^*(s)$, and so on.\n",
    "\n",
    "3. Is computation time decreased by this replacement? <br>\n",
    "\n",
    "Apparently that the initial guess for Newton's method has quite an effect on the time it takes to converge. Our tests showed no clear sign of one method generally being faster than the other, unless the initial guess is extraordinarily good. When performing large-scale computations, it might be good to perform a few iterations of the Bisection method first to get a decent estimate of a starting point for Newton's method, and then proceed from there with Newton's method."
   ]
  },
  {
   "cell_type": "code",
   "execution_count": 17,
   "metadata": {},
   "outputs": [
    {
     "name": "stdout",
     "output_type": "stream",
     "text": [
      "The computed value of t*(s) for s = 0.5 using Newton's method is 0.80059404\n",
      "The computed value of t*(s) for s = 0.5 using the Bisection method is 0.80059052\n",
      "Which is the same within our tolerance: True \n",
      "\n",
      "Time required to compute t*(s) using the Newton's method is: 0.0884127 seconds\n",
      "Time required to compute t*(s) using the Bisection method is: 0.1671271 seconds\n"
     ]
    }
   ],
   "source": [
    "\"\"\" Suggested Activity 4 \"\"\"\n",
    "start = perf_counter() # Newt takes 12 times longer with initial guess of 0.0 than with 0.8\n",
    "tStar4 = tStarOfSNewton(f, s, adQuad, 0.8, tol)\n",
    "end = perf_counter()\n",
    "elapsedTime4 = end - start\n",
    "\n",
    "print('The computed value of t*(s) for s =', s, end=' ')\n",
    "print('using Newton\\'s method is', round(tStar4, dec+3))\n",
    "\n",
    "print('The computed value of t*(s) for s =', s, end=' ')\n",
    "print('using the Bisection method is', round(tStar2, dec+3))\n",
    "print('Which is the same within our tolerance:', abs(tStar4-tStar2)<tol, \"\\n\")\n",
    "\n",
    "print('Time required to compute t*(s) using the Newton\\'s method is:',\n",
    "            round(elapsedTime4, dec+2), \"seconds\")\n",
    "print('Time required to compute t*(s) using the Bisection method is:',\n",
    "            round(elapsedTime2, dec+2), \"seconds\")"
   ]
  },
  {
   "cell_type": "code",
   "execution_count": 18,
   "metadata": {},
   "outputs": [
    {
     "name": "stdout",
     "output_type": "stream",
     "text": [
      "For n = 4, using Newton's method, the computation of t*(s) took 0.03346 seconds\n",
      "For n = 4, using the Bisection method, the computation of t*(s) took 0.01889 seconds\n"
     ]
    }
   ],
   "source": [
    "# For n = 4\n",
    "n = 4\n",
    "tStarArray = np.zeros(n+1)\n",
    "start = perf_counter()\n",
    "for i in range(n):\n",
    "    tStarArray[i+1] = tStarOfSNewton(f, sArray_n4[i+1], adQuadSimpson, tStarArray[i], tol)\n",
    "end = perf_counter()\n",
    "elapsedTime4n4 = end - start\n",
    "print(\"For n = 4, using Newton's method, the computation of t*(s) took\",\n",
    "      round(elapsedTime4n4, dec), \"seconds\")\n",
    "print(\"For n = 4, using the Bisection method, the computation of t*(s) took\",\n",
    "      round(elapsedTime3n4, dec), \"seconds\")\n",
    "\n",
    "for i in range(n): # let's verify that each arclength is about a quarter of the length of the path\n",
    "    partialArclength = compArcLength(f, tStarArray[i], tStarArray[i+1], adQuadSimpson, tol)\n",
    "    if abs(partialArclength / arcLength - 1/n) > 10*tol:\n",
    "        print('Arc length from', round(tStarArray[i], dec), end=' ')\n",
    "        print('to', round(tStarArray[i+1], dec), end=' ') \n",
    "        print('is', round(partialArclength, dec))\n",
    "        print('Proportional arc length:',\n",
    "              round(np.abs(partialArclength / arcLength), dec))"
   ]
  },
  {
   "cell_type": "code",
   "execution_count": 20,
   "metadata": {},
   "outputs": [
    {
     "name": "stdout",
     "output_type": "stream",
     "text": [
      "For n = 20, using Newton's method, the computation of t*(s) took 0.08427 seconds\n",
      "For n = 20, using the Bisection method, the computation of t*(s) took 0.08285 seconds\n"
     ]
    }
   ],
   "source": [
    "# For n = 20\n",
    "n = 20\n",
    "tStarArray = np.zeros(n+1)\n",
    "start = perf_counter()\n",
    "for i in range(n):\n",
    "    tStarArray[i+1] = tStarOfSNewton(f, sArray_n20[i+1], adQuadSimpson, tStarArray[i], tol)\n",
    "end = perf_counter()\n",
    "elapsedTime4n20 = end - start\n",
    "print(\"For n = 20, using Newton's method, the computation of t*(s) took\",\n",
    "      round(elapsedTime4n20, dec), \"seconds\")\n",
    "print(\"For n = 20, using the Bisection method, the computation of t*(s) took\",\n",
    "      round(elapsedTime3n20, dec), \"seconds\")\n",
    "\n",
    "\n",
    "for i in range(n): # let's verify that each arclength is about one-twentieth of the length of the path\n",
    "    partialArclength = compArcLength(f, tStarArray[i], tStarArray[i+1], adQuadSimpson, tol)\n",
    "    if abs(partialArclength / arcLength - 1/n) > 10*tol:\n",
    "        print('Arc length from', round(tStarArray[i], dec), end=' ')\n",
    "        print('to', round(tStarArray[i+1], dec), end=' ') \n",
    "        print('is', round(partialArclength, dec))\n",
    "        print('Proportional arc length:',\n",
    "              round(np.abs(partialArclength / arcLength), dec))"
   ]
  },
  {
   "cell_type": "markdown",
   "metadata": {},
   "source": [
    "<hr>\n",
    "\n",
    "## Suggested Activity 6\n",
    "\n",
    "Experiment with equipartitioning a path of your choice. Build a design, initial, etc. of your choice out of Bézier curves, partition it into equal arc length segments, and animate as in Step 5.\n",
    "\n",
    " - Randomly generate Bézier curves in the area $[-1.5,1.5] \\times [-0.5,2.0]$.\n",
    " \n",
    "\n",
    "*Gætum viljað vista myndirnar og setja þær með (5 í hverri röð, frekar en eina í hverja röð eins og python myndi gera)*"
   ]
  },
  {
   "cell_type": "code",
   "execution_count": 21,
   "metadata": {},
   "outputs": [
    {
     "name": "stdout",
     "output_type": "stream",
     "text": [
      "[[-1.31, 1], [0.73, 1], [-1.66, 0], [-1.27, 0]]\n",
      "[[0.26, 1], [-1.67, 2], [-0.25, 2], [0.24, 2]]\n",
      "[[1.07, 0], [-1.13, 1], [-0.29, 1], [-1.77, 0]]\n",
      "[[1.16, 0], [-0.84, 0], [0.97, 0], [-1.51, -1]]\n",
      "[[-1.99, 2], [1.21, 1], [1.08, 1], [-1.59, 1]]\n",
      "[[-0.12, 1], [0.04, 0], [1.19, 0], [-0.74, 0]]\n",
      "[[1.02, 0], [-0.65, -1], [0.42, 0], [-0.77, 1]]\n",
      "[[0.89, 1], [1.43, 0], [-1.28, 1], [-1.25, 0]]\n",
      "[[0.08, 2], [-0.21, 0], [-0.34, 2], [0.16, 0]]\n",
      "[[0.18, 1], [-1.23, 2], [-1.37, 0], [0.81, 0]]\n"
     ]
    }
   ],
   "source": [
    "\"\"\" Suggest Activity 6 \"\"\"\n",
    "n_BezierCurves = 10\n",
    "\n",
    "BezierCurves = []\n",
    "for i in range(n_BezierCurves):\n",
    "    points = []\n",
    "    for j in range(4):\n",
    "        points.append([round(uniform(-2.0,1.5),2), round(uniform(-1.0,2.0))])\n",
    "    BezierCurves.append(bezierCurve(points))\n",
    "#    plotParameterizedCurves(BezierCurves[i][0],BezierCurves[i][1],[0,1],1,\"Random Bezier Curve \"+str(i))\n"
   ]
  }
 ],
 "metadata": {
  "kernelspec": {
   "display_name": "Python 3",
   "language": "python",
   "name": "python3"
  },
  "language_info": {
   "codemirror_mode": {
    "name": "ipython",
    "version": 3
   },
   "file_extension": ".py",
   "mimetype": "text/x-python",
   "name": "python",
   "nbconvert_exporter": "python",
   "pygments_lexer": "ipython3",
   "version": "3.6.5"
  }
 },
 "nbformat": 4,
 "nbformat_minor": 2
}
